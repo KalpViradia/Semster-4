{
 "cells": [
  {
   "cell_type": "markdown",
   "metadata": {},
   "source": [
    "\n",
    "<a href='https://www.darshan.ac.in/'> <img src='https://www.darshan.ac.in/Content/media/DU_Logo.svg' width=\"250\" height=\"300\"/></a>\n",
    "<pre>\n",
    "<center><b><h1>Python Programming - 2301CS404</b></center>\n",
    "<center><b><h1>Kalp Viradia | 23010101299 | 23/12/2024</b></center>\n",
    "<center><b><h1>Lab - 5</b></center>    \n",
    "<pre>"
   ]
  },
  {
   "cell_type": "markdown",
   "metadata": {},
   "source": [
    "# List"
   ]
  },
  {
   "cell_type": "markdown",
   "metadata": {},
   "source": [
    "### 01) WAP to find sum of all the elements in a List."
   ]
  },
  {
   "cell_type": "code",
   "execution_count": 40,
   "metadata": {},
   "outputs": [
    {
     "name": "stdin",
     "output_type": "stream",
     "text": [
      "Enter a element for list (Enter \"f\" to terminate):  5\n",
      "Enter a element for list (Enter \"f\" to terminate):  4\n",
      "Enter a element for list (Enter \"f\" to terminate):  3\n",
      "Enter a element for list (Enter \"f\" to terminate):  2\n",
      "Enter a element for list (Enter \"f\" to terminate):  1\n",
      "Enter a element for list (Enter \"f\" to terminate):  7\n",
      "Enter a element for list (Enter \"f\" to terminate):  8\n",
      "Enter a element for list (Enter \"f\" to terminate):  f\n"
     ]
    },
    {
     "name": "stdout",
     "output_type": "stream",
     "text": [
      "The sum of the list is: 30\n"
     ]
    }
   ],
   "source": [
    "list = []\n",
    "terminate = True\n",
    "while terminate == True:\n",
    "    element = input('Enter a element for list (Enter \"f\" to terminate): ')\n",
    "    if element == 'f':\n",
    "        break\n",
    "    else:\n",
    "        element = int(element)\n",
    "    list.append(element)\n",
    "\n",
    "sum = 0\n",
    "for i in list:\n",
    "    sum += i\n",
    "\n",
    "print(f'The sum of the list is: {sum}')"
   ]
  },
  {
   "cell_type": "markdown",
   "metadata": {},
   "source": [
    "### 02) WAP to find largest element in a List."
   ]
  },
  {
   "cell_type": "code",
   "execution_count": 22,
   "metadata": {},
   "outputs": [
    {
     "name": "stdin",
     "output_type": "stream",
     "text": [
      "Enter a element for list (Enter \"f\" to terminate):  5\n",
      "Enter a element for list (Enter \"f\" to terminate):  4\n",
      "Enter a element for list (Enter \"f\" to terminate):  8\n",
      "Enter a element for list (Enter \"f\" to terminate):  3\n",
      "Enter a element for list (Enter \"f\" to terminate):  2\n",
      "Enter a element for list (Enter \"f\" to terminate):  1\n",
      "Enter a element for list (Enter \"f\" to terminate):  f\n"
     ]
    },
    {
     "name": "stdout",
     "output_type": "stream",
     "text": [
      "The largest number is: 8\n"
     ]
    }
   ],
   "source": [
    "list = []\n",
    "terminate = True\n",
    "while terminate == True:\n",
    "    element = input('Enter a element for list (Enter \"f\" to terminate): ')\n",
    "    if element == 'f':\n",
    "        break\n",
    "    else:\n",
    "        element = int(element)\n",
    "    list.append(element)\n",
    "\n",
    "largest = list[1]\n",
    "for i in list:\n",
    "    if i > largest:\n",
    "        largest = i\n",
    "\n",
    "print(f'The largest number is: {largest}')"
   ]
  },
  {
   "cell_type": "markdown",
   "metadata": {},
   "source": [
    "### 03) WAP to find the length of a List."
   ]
  },
  {
   "cell_type": "code",
   "execution_count": 24,
   "metadata": {},
   "outputs": [
    {
     "name": "stdin",
     "output_type": "stream",
     "text": [
      "Enter a element for list (Enter \"f\" to terminate):  5\n",
      "Enter a element for list (Enter \"f\" to terminate):  8\n",
      "Enter a element for list (Enter \"f\" to terminate):  4\n",
      "Enter a element for list (Enter \"f\" to terminate):  1\n",
      "Enter a element for list (Enter \"f\" to terminate):  9\n",
      "Enter a element for list (Enter \"f\" to terminate):  88\n",
      "Enter a element for list (Enter \"f\" to terminate):  44\n",
      "Enter a element for list (Enter \"f\" to terminate):  22\n",
      "Enter a element for list (Enter \"f\" to terminate):  1\n",
      "Enter a element for list (Enter \"f\" to terminate):  f\n"
     ]
    },
    {
     "name": "stdout",
     "output_type": "stream",
     "text": [
      "The length of the list is: 9\n"
     ]
    }
   ],
   "source": [
    "list = []\n",
    "terminate = True\n",
    "while terminate == True:\n",
    "    element = input('Enter a element for list (Enter \"f\" to terminate): ')\n",
    "    if element == 'f':\n",
    "        break\n",
    "    else:\n",
    "        element = int(element)\n",
    "    list.append(element)\n",
    "\n",
    "print(f'The length of the list is: {len(list)}')"
   ]
  },
  {
   "cell_type": "markdown",
   "metadata": {},
   "source": [
    "### 04) WAP to interchange first and last elements in a list."
   ]
  },
  {
   "cell_type": "code",
   "execution_count": 26,
   "metadata": {},
   "outputs": [
    {
     "name": "stdin",
     "output_type": "stream",
     "text": [
      "Enter a element for list (Enter \"f\" to terminate):  5\n",
      "Enter a element for list (Enter \"f\" to terminate):  7\n",
      "Enter a element for list (Enter \"f\" to terminate):  8\n",
      "Enter a element for list (Enter \"f\" to terminate):  2\n",
      "Enter a element for list (Enter \"f\" to terminate):  4\n",
      "Enter a element for list (Enter \"f\" to terminate):  1\n",
      "Enter a element for list (Enter \"f\" to terminate):  2\n",
      "Enter a element for list (Enter \"f\" to terminate):  f\n"
     ]
    },
    {
     "name": "stdout",
     "output_type": "stream",
     "text": [
      "List after interchange is: [2, 7, 8, 2, 4, 1, 5]\n"
     ]
    }
   ],
   "source": [
    "list = []\n",
    "terminate = True\n",
    "while terminate == True:\n",
    "    element = input('Enter a element for list (Enter \"f\" to terminate): ')\n",
    "    if element == 'f':\n",
    "        break\n",
    "    else:\n",
    "        element = int(element)\n",
    "    list.append(element)\n",
    "\n",
    "list[0], list[-1] = list[-1], list[0]\n",
    "print(f'List after interchange is: {list}')"
   ]
  },
  {
   "cell_type": "markdown",
   "metadata": {},
   "source": [
    "### 05) WAP to split the List into two parts and append the first part to the end."
   ]
  },
  {
   "cell_type": "code",
   "execution_count": 28,
   "metadata": {},
   "outputs": [
    {
     "name": "stdin",
     "output_type": "stream",
     "text": [
      "Enter a element for list (Enter \"f\" to terminate):  5\n",
      "Enter a element for list (Enter \"f\" to terminate):  7\n",
      "Enter a element for list (Enter \"f\" to terminate):  8\n",
      "Enter a element for list (Enter \"f\" to terminate):  9\n",
      "Enter a element for list (Enter \"f\" to terminate):  5\n",
      "Enter a element for list (Enter \"f\" to terminate):  3\n",
      "Enter a element for list (Enter \"f\" to terminate):  1\n",
      "Enter a element for list (Enter \"f\" to terminate):  5\n",
      "Enter a element for list (Enter \"f\" to terminate):  4\n",
      "Enter a element for list (Enter \"f\" to terminate):  f\n",
      "Enter the split index:  5\n"
     ]
    },
    {
     "name": "stdout",
     "output_type": "stream",
     "text": [
      "The lidt after split is: [3, 1, 5, 4, 5, 7, 8, 9, 5]\n"
     ]
    }
   ],
   "source": [
    "list = []\n",
    "terminate = True\n",
    "while terminate == True:\n",
    "    element = input('Enter a element for list (Enter \"f\" to terminate): ')\n",
    "    if element == 'f':\n",
    "        break\n",
    "    else:\n",
    "        element = int(element)\n",
    "    list.append(element)\n",
    "\n",
    "# splitIndex = int(len(list)/2)\n",
    "splitIndex = int(input('Enter the split index: '))\n",
    "first = list[:splitIndex]\n",
    "second = list[splitIndex:]\n",
    "\n",
    "print(f'The lidt after split is: {second + first}')"
   ]
  },
  {
   "cell_type": "markdown",
   "metadata": {},
   "source": [
    "### 06) WAP to interchange the elements on two positions entered by a user."
   ]
  },
  {
   "cell_type": "code",
   "execution_count": 79,
   "metadata": {},
   "outputs": [
    {
     "name": "stdin",
     "output_type": "stream",
     "text": [
      "Enter a element for list (Enter \"f\" to terminate):  4\n",
      "Enter a element for list (Enter \"f\" to terminate):  5\n",
      "Enter a element for list (Enter \"f\" to terminate):  6\n",
      "Enter a element for list (Enter \"f\" to terminate):  3\n",
      "Enter a element for list (Enter \"f\" to terminate):  2\n",
      "Enter a element for list (Enter \"f\" to terminate):  1\n",
      "Enter a element for list (Enter \"f\" to terminate):  77\n",
      "Enter a element for list (Enter \"f\" to terminate):  55\n",
      "Enter a element for list (Enter \"f\" to terminate):  f\n",
      "Enter the position of the first element:  4\n",
      "Enter the position of the second element:  6\n"
     ]
    },
    {
     "name": "stdout",
     "output_type": "stream",
     "text": [
      "List after interchange is: [4, 5, 6, 3, 77, 1, 2, 55]\n"
     ]
    }
   ],
   "source": [
    "list = []\n",
    "terminate = True\n",
    "while terminate == True:\n",
    "    element = input('Enter a element for list (Enter \"f\" to terminate): ')\n",
    "    if element == 'f':\n",
    "        break\n",
    "    else:\n",
    "        element = int(element)\n",
    "    list.append(element)\n",
    "\n",
    "position1 = int(input('Enter the position of the first element: '))\n",
    "position2 = int(input('Enter the position of the second element: '))\n",
    "\n",
    "if position1 > len(list) or position2 > len(list):\n",
    "    print('Invaild position')\n",
    "else:\n",
    "    list[position1], list[position2] = list[position2], list[position1]\n",
    "    print(f'List after interchange is: {list}')"
   ]
  },
  {
   "cell_type": "markdown",
   "metadata": {},
   "source": [
    "### 07) WAP to reverse the list entered by user."
   ]
  },
  {
   "cell_type": "code",
   "execution_count": 32,
   "metadata": {},
   "outputs": [
    {
     "name": "stdin",
     "output_type": "stream",
     "text": [
      "Enter a element for list (Enter \"f\" to terminate):  5\n",
      "Enter a element for list (Enter \"f\" to terminate):  7\n",
      "Enter a element for list (Enter \"f\" to terminate):  6\n",
      "Enter a element for list (Enter \"f\" to terminate):  5\n",
      "Enter a element for list (Enter \"f\" to terminate):  4\n",
      "Enter a element for list (Enter \"f\" to terminate):  f\n"
     ]
    },
    {
     "name": "stdout",
     "output_type": "stream",
     "text": [
      "The reversed of the list is: [4, 5, 6, 7, 5]\n"
     ]
    }
   ],
   "source": [
    "list = []\n",
    "terminate = True\n",
    "while terminate == True:\n",
    "    element = input('Enter a element for list (Enter \"f\" to terminate): ')\n",
    "    if element == 'f':\n",
    "        break\n",
    "    else:\n",
    "        element = int(element)\n",
    "    list.append(element)\n",
    "\n",
    "reversedList = list[::-1]\n",
    "print(f'The reversed of the list is: {reversedList}')"
   ]
  },
  {
   "cell_type": "markdown",
   "metadata": {},
   "source": [
    "### 08) WAP to print even numbers in a list."
   ]
  },
  {
   "cell_type": "code",
   "execution_count": 34,
   "metadata": {},
   "outputs": [
    {
     "name": "stdin",
     "output_type": "stream",
     "text": [
      "Enter a element for list (Enter \"f\" to terminate):  8\n",
      "Enter a element for list (Enter \"f\" to terminate):  6\n",
      "Enter a element for list (Enter \"f\" to terminate):  2\n",
      "Enter a element for list (Enter \"f\" to terminate):  5\n",
      "Enter a element for list (Enter \"f\" to terminate):  3\n",
      "Enter a element for list (Enter \"f\" to terminate):  1\n",
      "Enter a element for list (Enter \"f\" to terminate):  9\n",
      "Enter a element for list (Enter \"f\" to terminate):  f\n"
     ]
    },
    {
     "name": "stdout",
     "output_type": "stream",
     "text": [
      "The length of the list is: [8, 6, 2]\n"
     ]
    }
   ],
   "source": [
    "list = []\n",
    "terminate = True\n",
    "while terminate == True:\n",
    "    element = input('Enter a element for list (Enter \"f\" to terminate): ')\n",
    "    if element == 'f':\n",
    "        break\n",
    "    else:\n",
    "        element = int(element)\n",
    "    list.append(element)\n",
    "\n",
    "evenList = []\n",
    "for i in list:\n",
    "    if i % 2 == 0:\n",
    "        evenList.append(i)\n",
    "\n",
    "print(f'The length of the list is: {evenList}')"
   ]
  },
  {
   "cell_type": "markdown",
   "metadata": {},
   "source": [
    "### 09) WAP to count unique items in a list."
   ]
  },
  {
   "cell_type": "code",
   "execution_count": 38,
   "metadata": {},
   "outputs": [
    {
     "name": "stdin",
     "output_type": "stream",
     "text": [
      "Enter a element for list (Enter \"f\" to terminate):  5\n",
      "Enter a element for list (Enter \"f\" to terminate):  4\n",
      "Enter a element for list (Enter \"f\" to terminate):  5\n",
      "Enter a element for list (Enter \"f\" to terminate):  3\n",
      "Enter a element for list (Enter \"f\" to terminate):  2\n",
      "Enter a element for list (Enter \"f\" to terminate):  6\n",
      "Enter a element for list (Enter \"f\" to terminate):  3\n",
      "Enter a element for list (Enter \"f\" to terminate):  f\n"
     ]
    },
    {
     "name": "stdout",
     "output_type": "stream",
     "text": [
      "The number of unique elements in list are: 5\n"
     ]
    }
   ],
   "source": [
    "list = []\n",
    "terminate = True\n",
    "while terminate == True:\n",
    "    element = input('Enter a element for list (Enter \"f\" to terminate): ')\n",
    "    if element == 'f':\n",
    "        break\n",
    "    else:\n",
    "        element = int(element)\n",
    "    list.append(element)\n",
    "\n",
    "uniqueItems = set(list)\n",
    "print(f'The number of unique elements in list are: {len(uniqueItems)}')"
   ]
  },
  {
   "cell_type": "markdown",
   "metadata": {},
   "source": [
    "### 10) WAP to copy a list."
   ]
  },
  {
   "cell_type": "code",
   "execution_count": 46,
   "metadata": {},
   "outputs": [
    {
     "name": "stdin",
     "output_type": "stream",
     "text": [
      "Enter a element for list (Enter \"f\" to terminate):  8\n",
      "Enter a element for list (Enter \"f\" to terminate):  4\n",
      "Enter a element for list (Enter \"f\" to terminate):  5\n",
      "Enter a element for list (Enter \"f\" to terminate):  6\n",
      "Enter a element for list (Enter \"f\" to terminate):  1\n",
      "Enter a element for list (Enter \"f\" to terminate):  2\n",
      "Enter a element for list (Enter \"f\" to terminate):  f\n"
     ]
    },
    {
     "name": "stdout",
     "output_type": "stream",
     "text": [
      "The copied list is [8, 4, 5, 6, 1, 2]\n"
     ]
    }
   ],
   "source": [
    "list = []\n",
    "terminate = True\n",
    "while terminate == True:\n",
    "    element = input('Enter a element for list (Enter \"f\" to terminate): ')\n",
    "    if element == 'f':\n",
    "        break\n",
    "    else:\n",
    "        element = int(element)\n",
    "    list.append(element)\n",
    "\n",
    "copiedList = list.copy()\n",
    "print(f'The copied list is {copiedList}')"
   ]
  },
  {
   "cell_type": "markdown",
   "metadata": {},
   "source": [
    "### 11) WAP to print all odd numbers in a given range."
   ]
  },
  {
   "cell_type": "code",
   "execution_count": 54,
   "metadata": {},
   "outputs": [
    {
     "name": "stdin",
     "output_type": "stream",
     "text": [
      "Enter the range:  9\n"
     ]
    },
    {
     "name": "stdout",
     "output_type": "stream",
     "text": [
      "The list with odd numbers till 9 is [1, 3, 5, 7, 9]\n"
     ]
    }
   ],
   "source": [
    "n = int(input('Enter the range: '))\n",
    "list = []\n",
    "\n",
    "for i in range(n+1):\n",
    "    if i % 2 != 0:\n",
    "        list.append(i)\n",
    "\n",
    "print(f'The list with odd numbers till {n} is {list}')"
   ]
  },
  {
   "cell_type": "markdown",
   "metadata": {},
   "source": [
    "### 12) WAP to count occurrences of an element in a list."
   ]
  },
  {
   "cell_type": "code",
   "execution_count": 48,
   "metadata": {},
   "outputs": [
    {
     "name": "stdin",
     "output_type": "stream",
     "text": [
      "Enter a element for list (Enter \"f\" to terminate):  5\n",
      "Enter a element for list (Enter \"f\" to terminate):  9\n",
      "Enter a element for list (Enter \"f\" to terminate):  6\n",
      "Enter a element for list (Enter \"f\" to terminate):  5\n",
      "Enter a element for list (Enter \"f\" to terminate):  2\n",
      "Enter a element for list (Enter \"f\" to terminate):  3\n",
      "Enter a element for list (Enter \"f\" to terminate):  4\n",
      "Enter a element for list (Enter \"f\" to terminate):  f\n",
      "Enter the element to count:  5\n"
     ]
    },
    {
     "name": "stdout",
     "output_type": "stream",
     "text": [
      "The count of the element 5 is 2\n"
     ]
    }
   ],
   "source": [
    "list = []\n",
    "terminate = True\n",
    "while terminate == True:\n",
    "    element = input('Enter a element for list (Enter \"f\" to terminate): ')\n",
    "    if element == 'f':\n",
    "        break\n",
    "    else:\n",
    "        element = int(element)\n",
    "    list.append(element)\n",
    "\n",
    "countElement = int(input('Enter the element to count: '))\n",
    "print(f'The count of the element {countElement} is {list.count(countElement)}')"
   ]
  },
  {
   "cell_type": "markdown",
   "metadata": {},
   "source": [
    "### 13) WAP to find second largest number in a list."
   ]
  },
  {
   "cell_type": "code",
   "execution_count": 50,
   "metadata": {},
   "outputs": [
    {
     "name": "stdin",
     "output_type": "stream",
     "text": [
      "Enter a element for list (Enter \"f\" to terminate):  5\n",
      "Enter a element for list (Enter \"f\" to terminate):  8\n",
      "Enter a element for list (Enter \"f\" to terminate):  4\n",
      "Enter a element for list (Enter \"f\" to terminate):  1\n",
      "Enter a element for list (Enter \"f\" to terminate):  23\n",
      "Enter a element for list (Enter \"f\" to terminate):  96\n",
      "Enter a element for list (Enter \"f\" to terminate):  f\n"
     ]
    },
    {
     "name": "stdout",
     "output_type": "stream",
     "text": [
      "The second largest number is 23\n"
     ]
    }
   ],
   "source": [
    "list = []\n",
    "terminate = True\n",
    "while terminate == True:\n",
    "    element = input('Enter a element for list (Enter \"f\" to terminate): ')\n",
    "    if element == 'f':\n",
    "        break\n",
    "    else:\n",
    "        element = int(element)\n",
    "    list.append(element)\n",
    "\n",
    "uniqueList = sorted(set(list), reverse=True)\n",
    "print(f'The second largest number is {uniqueList[1]}')"
   ]
  },
  {
   "cell_type": "markdown",
   "metadata": {},
   "source": [
    "### 14) WAP to extract elements with frequency greater than K."
   ]
  },
  {
   "cell_type": "code",
   "execution_count": 54,
   "metadata": {},
   "outputs": [
    {
     "name": "stdin",
     "output_type": "stream",
     "text": [
      "Enter a element for list (Enter \"f\" to terminate):  5\n",
      "Enter a element for list (Enter \"f\" to terminate):  6\n",
      "Enter a element for list (Enter \"f\" to terminate):  4\n",
      "Enter a element for list (Enter \"f\" to terminate):  8\n",
      "Enter a element for list (Enter \"f\" to terminate):  2\n",
      "Enter a element for list (Enter \"f\" to terminate):  1\n",
      "Enter a element for list (Enter \"f\" to terminate):  2\n",
      "Enter a element for list (Enter \"f\" to terminate):  2\n",
      "Enter a element for list (Enter \"f\" to terminate):  f\n",
      "Emter the frequency:  2\n"
     ]
    },
    {
     "name": "stdout",
     "output_type": "stream",
     "text": [
      "The element that occured more than 2 times are: [2]\n"
     ]
    }
   ],
   "source": [
    "list = []\n",
    "terminate = True\n",
    "while terminate == True:\n",
    "    element = input('Enter a element for list (Enter \"f\" to terminate): ')\n",
    "    if element == 'f':\n",
    "        break\n",
    "    else:\n",
    "        element = int(element)\n",
    "    list.append(element)\n",
    "\n",
    "k = int(input('Emter the frequency: '))\n",
    "\n",
    "frequencyDict = {}\n",
    "for i in list:\n",
    "    if i in frequencyDict:\n",
    "        frequencyDict[i] += 1\n",
    "    else:\n",
    "        frequencyDict[i] = 1\n",
    "            \n",
    "result = [key for key, value in frequencyDict.items() if value > k]\n",
    "print(f'The element that occured more than {k} times are: {result}')"
   ]
  },
  {
   "cell_type": "markdown",
   "metadata": {},
   "source": [
    "### 15) WAP to create a list of squared numbers from 0 to 9 with and without using List Comprehension."
   ]
  },
  {
   "cell_type": "code",
   "execution_count": 5,
   "metadata": {},
   "outputs": [
    {
     "name": "stdout",
     "output_type": "stream",
     "text": [
      "The list with square fom 0 to 9 is: [0, 1, 4, 9, 16, 25, 36, 49, 64, 81]\n"
     ]
    }
   ],
   "source": [
    "#With List Comprehension\n",
    "list = [i**2 for i in range(10)]\n",
    "\n",
    "#Without List Comprehension\n",
    "list = []\n",
    "for i in range(10):\n",
    "    list.append(i**2)\n",
    "\n",
    "print(f'The list with square fom 0 to 9 is: {list}')"
   ]
  },
  {
   "cell_type": "markdown",
   "metadata": {},
   "source": [
    "### 16) WAP to create a new list (fruit whose name starts with 'b') from the list of fruits given by user."
   ]
  },
  {
   "cell_type": "code",
   "execution_count": 61,
   "metadata": {},
   "outputs": [
    {
     "name": "stdin",
     "output_type": "stream",
     "text": [
      "Enter a fruit for list (Enter \"f\" to terminate):  banana\n",
      "Enter a fruit for list (Enter \"f\" to terminate):  mango\n",
      "Enter a fruit for list (Enter \"f\" to terminate):  blueberry\n",
      "Enter a fruit for list (Enter \"f\" to terminate):  strawberry\n",
      "Enter a fruit for list (Enter \"f\" to terminate):  blackberry\n",
      "Enter a fruit for list (Enter \"f\" to terminate):  pineapple\n",
      "Enter a fruit for list (Enter \"f\" to terminate):  f\n"
     ]
    },
    {
     "name": "stdout",
     "output_type": "stream",
     "text": [
      "Fruits whose names start with 'b': ['banana', 'blueberry', 'blackberry']\n"
     ]
    }
   ],
   "source": [
    "fruit_list = []\n",
    "terminate = True\n",
    "while terminate == True:\n",
    "    element = input('Enter a fruit for list (Enter \"f\" to terminate): ')\n",
    "    if element == 'f':\n",
    "        break\n",
    "    fruit_list.append(element)\n",
    "\n",
    "b_fruits = [i for i in fruit_list if i.lower().startswith('b')]\n",
    "print(f\"Fruits whose names start with 'b': {b_fruits}\")"
   ]
  },
  {
   "cell_type": "markdown",
   "metadata": {},
   "source": [
    "### 17) WAP to create a list of common elements from given two lists."
   ]
  },
  {
   "cell_type": "code",
   "execution_count": 65,
   "metadata": {},
   "outputs": [
    {
     "name": "stdin",
     "output_type": "stream",
     "text": [
      "Enter a element for list1 (Enter \"f\" to terminate):  8\n",
      "Enter a element for list1 (Enter \"f\" to terminate):  4\n",
      "Enter a element for list1 (Enter \"f\" to terminate):  5\n",
      "Enter a element for list1 (Enter \"f\" to terminate):  6\n",
      "Enter a element for list1 (Enter \"f\" to terminate):  2\n",
      "Enter a element for list1 (Enter \"f\" to terminate):  1\n",
      "Enter a element for list1 (Enter \"f\" to terminate):  f\n",
      "Enter a element for list2 (Enter \"f\" to terminate):  4\n",
      "Enter a element for list2 (Enter \"f\" to terminate):  5\n",
      "Enter a element for list2 (Enter \"f\" to terminate):  6\n",
      "Enter a element for list2 (Enter \"f\" to terminate):  2\n",
      "Enter a element for list2 (Enter \"f\" to terminate):  7\n",
      "Enter a element for list2 (Enter \"f\" to terminate):  1\n",
      "Enter a element for list2 (Enter \"f\" to terminate):  f\n"
     ]
    },
    {
     "name": "stdout",
     "output_type": "stream",
     "text": [
      "Enter common elements in both list are: [4, 5, 6, 2, 1]\n"
     ]
    }
   ],
   "source": [
    "list1 = []\n",
    "terminate = True\n",
    "while terminate == True:\n",
    "    element = input('Enter a element for list1 (Enter \"f\" to terminate): ')\n",
    "    if element == 'f':\n",
    "        break\n",
    "    else:\n",
    "        element = int(element)\n",
    "    list1.append(element)\n",
    "\n",
    "list2 = []\n",
    "terminate = True\n",
    "while terminate == True:\n",
    "    element = input('Enter a element for list2 (Enter \"f\" to terminate): ')\n",
    "    if element == 'f':\n",
    "        break\n",
    "    else:\n",
    "        element = int(element)\n",
    "    list2.append(element)\n",
    "\n",
    "common = [element for element in list1 if element in list2]\n",
    "print(f'Enter common elements in both list are: {common}')"
   ]
  },
  {
   "cell_type": "code",
   "execution_count": null,
   "metadata": {},
   "outputs": [],
   "source": []
  }
 ],
 "metadata": {
  "kernelspec": {
   "display_name": "Python 3 (ipykernel)",
   "language": "python",
   "name": "python3"
  },
  "language_info": {
   "codemirror_mode": {
    "name": "ipython",
    "version": 3
   },
   "file_extension": ".py",
   "mimetype": "text/x-python",
   "name": "python",
   "nbconvert_exporter": "python",
   "pygments_lexer": "ipython3",
   "version": "3.12.7"
  }
 },
 "nbformat": 4,
 "nbformat_minor": 4
}
